{
 "cells": [
  {
   "cell_type": "markdown",
   "id": "acf27a58",
   "metadata": {},
   "source": [
    "# GARL"
   ]
  },
  {
   "attachments": {},
   "cell_type": "markdown",
   "id": "3ce62d5d",
   "metadata": {},
   "source": [
    "### Documentación\n",
    "\n",
    "Problemas interesantes para Aprendizaje por refuerzo\n",
    " * Gymnasium: https://gymnasium.farama.org/environments/box2d/"
   ]
  },
  {
   "attachments": {},
   "cell_type": "markdown",
   "id": "57c172cf-929c-4be0-b79e-d3da9d17c343",
   "metadata": {},
   "source": [
    "## Instalación\n",
    "\n",
    "!pip install gymnasium  \n",
    "!pip install gymnasium[box2d] \n",
    "\n",
    "## Acciones adicionales\n",
    "\n",
    "### En macos\n",
    "\n",
    "pip uninstall swig  \n",
    "xcode-select -—install (si no se tienen ya)  \n",
    "pip install swig  / sudo port install swig-python\n",
    "pip install 'gymnasium[box2d]' # en zsh hay que poner las comillas  \n",
    "\n",
    "### en Windows\n",
    "\n",
    "Si da error, se debe a la falta de la versión correcta de Microsoft Visual C++ Build Tools, que es una dependencia de Box2D. Para solucionar este problema, puede seguir los siguientes pasos:  \n",
    " * Descargar Microsoft Visual C++ Build Tools desde https://visualstudio.microsoft.com/visual-cpp-build-tools/.\n",
    " * Dentro de la app, seleccione la opción \"Herramientas de compilación de C++\" para instalar.\n",
    " * Reinicie su sesión en Jupyter Notebook.\n",
    " * Ejecute nuevamente el comando !pip install gymnasium[box2d] en la línea de comandos de su notebook."
   ]
  },
  {
   "cell_type": "code",
   "execution_count": 1,
   "id": "3ab177e2",
   "metadata": {},
   "outputs": [],
   "source": [
    "import gymnasium as gym\n",
    "import numpy as np"
   ]
  },
  {
   "cell_type": "markdown",
   "id": "d738a2c6",
   "metadata": {},
   "source": [
    "## Human"
   ]
  },
  {
   "cell_type": "code",
   "execution_count": 3,
   "id": "e2e7a384-a993-4330-b213-03d2f02ed3ab",
   "metadata": {},
   "outputs": [],
   "source": [
    "# prueba lunar lander por humano\n",
    "import pygame\n",
    "import gymnasium.utils.play\n",
    "\n",
    "\n",
    "env = gym.make(\"LunarLander-v2\", render_mode=\"rgb_array\")\n",
    "\n",
    "\n",
    "lunar_lander_keys = {\n",
    "    (pygame.K_UP,): 2,\n",
    "    (pygame.K_LEFT,): 1,\n",
    "    (pygame.K_RIGHT,): 3,\n",
    "}\n",
    "gymnasium.utils.play.play(env, zoom=3, keys_to_action=lunar_lander_keys, noop=0)"
   ]
  },
  {
   "cell_type": "markdown",
   "id": "44641031",
   "metadata": {},
   "source": [
    "## Agent\n"
   ]
  },
  {
   "cell_type": "markdown",
   "id": "0ac1d250",
   "metadata": {},
   "source": [
    "### Genetic Algorithm"
   ]
  },
  {
   "cell_type": "code",
   "execution_count": null,
   "id": "b47cea87",
   "metadata": {},
   "outputs": [
    {
     "name": "stdout",
     "output_type": "stream",
     "text": [
      "306.6054315589405\n",
      "9.644317640446374\n",
      "227.13774075100847\n",
      "63.59033873074514\n"
     ]
    }
   ],
   "source": [
    "import sys\n",
    "\n",
    "sys.path.append(\"..\")\n",
    "import NEAT.genome_serde as gen_serde\n",
    "import LunarLander.fitness as fit\n",
    "import NEAT.feed_forward_nn as ffnn\n",
    "from RNG.random import Rng\n",
    "import LunarLander.controllers as ctrl\n",
    "import numpy as np\n",
    "\n",
    "best = gen_serde.deserialize_genome(\n",
    "    \"../output/winner.pkl\"\n",
    ")\n",
    "fitness = []\n",
    "rounds = 100\n",
    "for r in range(rounds):\n",
    "    with fit.create_environment(False) as env:\n",
    "        observation, info = env.reset()\n",
    "        nn = ffnn.FeedForwardNeuralNetwork.create_from_genome(best)\n",
    "        controller = ctrl.AIController(env, nn, Rng(42), False, False)\n",
    "        fitness_round = 0.0\n",
    "\n",
    "        done = False\n",
    "        while not done:\n",
    "            action = controller.get_action(observation)\n",
    "            observation, reward, terminated, truncated, info = env.step(action)\n",
    "            fitness_round += reward\n",
    "            done = terminated or truncated\n",
    "\n",
    "        fitness.append(fitness_round)\n",
    "\n",
    "print(np.max(fitness))\n",
    "print(np.min(fitness))\n",
    "print(np.mean(fitness))\n",
    "print(np.std(fitness))"
   ]
  },
  {
   "cell_type": "code",
   "execution_count": 14,
   "id": "091d25e5",
   "metadata": {},
   "outputs": [
    {
     "ename": "ValueError",
     "evalue": "max() arg is an empty sequence",
     "output_type": "error",
     "traceback": [
      "\u001b[0;31m---------------------------------------------------------------------------\u001b[0m",
      "\u001b[0;31mValueError\u001b[0m                                Traceback (most recent call last)",
      "Cell \u001b[0;32mIn[14], line 8\u001b[0m\n\u001b[1;32m      5\u001b[0m \u001b[38;5;28;01mimport\u001b[39;00m \u001b[38;5;21;01mNEAT\u001b[39;00m\u001b[38;5;21;01m.\u001b[39;00m\u001b[38;5;21;01mformatter\u001b[39;00m \u001b[38;5;28;01mas\u001b[39;00m \u001b[38;5;21;01mfmtr\u001b[39;00m\n\u001b[1;32m      7\u001b[0m \u001b[38;5;66;03m# Asegúrate de que la ruta al archivo .dot sea la correcta.\u001b[39;00m\n\u001b[0;32m----> 8\u001b[0m G \u001b[38;5;241m=\u001b[39m \u001b[43mfmtr\u001b[49m\u001b[38;5;241;43m.\u001b[39;49m\u001b[43mForAnimationFormatterFn\u001b[49m\u001b[43m(\u001b[49m\u001b[43mbest\u001b[49m\u001b[43m)\u001b[49m\u001b[38;5;241;43m.\u001b[39;49m\u001b[43mto_networkx_graph\u001b[49m\u001b[43m(\u001b[49m\u001b[43m)\u001b[49m\n\u001b[1;32m      9\u001b[0m \u001b[38;5;66;03m# Dibuja la gráfica\u001b[39;00m\n\u001b[1;32m     10\u001b[0m pos \u001b[38;5;241m=\u001b[39m nx\u001b[38;5;241m.\u001b[39mmultipartite_layout(G, subset_key\u001b[38;5;241m=\u001b[39m\u001b[38;5;124m\"\u001b[39m\u001b[38;5;124mlayer\u001b[39m\u001b[38;5;124m\"\u001b[39m)\n",
      "File \u001b[0;32m/mnt/c/Users/User/Desktop/UPM/Master/RLGAN/NEAT-LunarLander/notebooks/../NEAT/formatter.py:67\u001b[0m, in \u001b[0;36mForAnimationFormatterFn.to_networkx_graph\u001b[0;34m(self)\u001b[0m\n\u001b[1;32m     64\u001b[0m \u001b[38;5;66;03m# Inferir las capas ocultas basándose en la distancia desde los nodos de entrada\u001b[39;00m\n\u001b[1;32m     65\u001b[0m \u001b[38;5;28;01mfor\u001b[39;00m hidden_node \u001b[38;5;129;01min\u001b[39;00m hidden_nodes:\n\u001b[1;32m     66\u001b[0m     \u001b[38;5;66;03m# Encuentra el camino más largo desde cualquier nodo de entrada al nodo oculto\u001b[39;00m\n\u001b[0;32m---> 67\u001b[0m     max_distance \u001b[38;5;241m=\u001b[39m \u001b[38;5;28;43mmax\u001b[39;49m\u001b[43m(\u001b[49m\n\u001b[1;32m     68\u001b[0m \u001b[43m        \u001b[49m\u001b[43m(\u001b[49m\n\u001b[1;32m     69\u001b[0m \u001b[43m            \u001b[49m\u001b[43mnx\u001b[49m\u001b[38;5;241;43m.\u001b[39;49m\u001b[43mshortest_path_length\u001b[49m\u001b[43m(\u001b[49m\u001b[43mG\u001b[49m\u001b[43m,\u001b[49m\u001b[43m \u001b[49m\u001b[43msource\u001b[49m\u001b[38;5;241;43m=\u001b[39;49m\u001b[43minput_node\u001b[49m\u001b[43m,\u001b[49m\u001b[43m \u001b[49m\u001b[43mtarget\u001b[49m\u001b[38;5;241;43m=\u001b[39;49m\u001b[43mhidden_node\u001b[49m\u001b[43m)\u001b[49m\u001b[43m,\u001b[49m\n\u001b[1;32m     70\u001b[0m \u001b[43m            \u001b[49m\u001b[43minput_node\u001b[49m\u001b[43m,\u001b[49m\n\u001b[1;32m     71\u001b[0m \u001b[43m        \u001b[49m\u001b[43m)\u001b[49m\n\u001b[1;32m     72\u001b[0m \u001b[43m        \u001b[49m\u001b[38;5;28;43;01mfor\u001b[39;49;00m\u001b[43m \u001b[49m\u001b[43minput_node\u001b[49m\u001b[43m \u001b[49m\u001b[38;5;129;43;01min\u001b[39;49;00m\u001b[43m \u001b[49m\u001b[38;5;28;43mself\u001b[39;49m\u001b[38;5;241;43m.\u001b[39;49m\u001b[43mgenome\u001b[49m\u001b[38;5;241;43m.\u001b[39;49m\u001b[43mmake_input_ids\u001b[49m\u001b[43m(\u001b[49m\u001b[43m)\u001b[49m\n\u001b[1;32m     73\u001b[0m \u001b[43m        \u001b[49m\u001b[38;5;28;43;01mif\u001b[39;49;00m\u001b[43m \u001b[49m\u001b[43mnx\u001b[49m\u001b[38;5;241;43m.\u001b[39;49m\u001b[43mhas_path\u001b[49m\u001b[43m(\u001b[49m\u001b[43mG\u001b[49m\u001b[43m,\u001b[49m\u001b[43m \u001b[49m\u001b[43minput_node\u001b[49m\u001b[43m,\u001b[49m\u001b[43m \u001b[49m\u001b[43mhidden_node\u001b[49m\u001b[43m)\u001b[49m\n\u001b[1;32m     74\u001b[0m \u001b[43m    \u001b[49m\u001b[43m)\u001b[49m[\u001b[38;5;241m0\u001b[39m]\n\u001b[1;32m     76\u001b[0m     \u001b[38;5;66;03m# Establece la capa del nodo oculto en base a la distancia máxima + 1\u001b[39;00m\n\u001b[1;32m     77\u001b[0m     G\u001b[38;5;241m.\u001b[39mnodes[hidden_node][\u001b[38;5;124m\"\u001b[39m\u001b[38;5;124mlayer\u001b[39m\u001b[38;5;124m\"\u001b[39m] \u001b[38;5;241m=\u001b[39m max_distance \u001b[38;5;241m+\u001b[39m \u001b[38;5;241m1\u001b[39m\n",
      "\u001b[0;31mValueError\u001b[0m: max() arg is an empty sequence"
     ]
    }
   ],
   "source": [
    "import networkx as nx\n",
    "from networkx.drawing.nx_pydot import read_dot\n",
    "import matplotlib.pyplot as plt\n",
    "import pygraphviz as pgv\n",
    "import NEAT.formatter as fmtr\n",
    "\n",
    "# Asegúrate de que la ruta al archivo .dot sea la correcta.\n",
    "G = fmtr.ForAnimationFormatterFn(best).to_networkx_graph()\n",
    "# Dibuja la gráfica\n",
    "pos = nx.multipartite_layout(G, subset_key=\"layer\")\n",
    "\n",
    "node_colors = {0: \"#FBE96A\", 1: \"#C3BD92\", 2: \"#69E9FA\"}\n",
    "node_color_map = [node_colors[data[\"layer\"]] for node_id, data in G.nodes(data=True)]\n",
    "edge_color_map = [\"green\" if G[u][v][\"weight\"] > 0 else \"red\" for u, v in G.edges()]\n",
    "\n",
    "weights = [G[u][v][\"weight\"] for u, v in G.edges()]\n",
    "abs_weights = [abs(w) for w in weights]\n",
    "max_weight = max(abs_weights)\n",
    "widths = [5 * w / max_weight for w in abs_weights]\n",
    "\n",
    "# Dibujar nodos y aristas\n",
    "plt.figure(figsize=(15, 10))\n",
    "nx.draw_networkx(\n",
    "    G,\n",
    "    pos,\n",
    "    with_labels=True,\n",
    "    node_color=node_color_map,\n",
    "    edge_color=edge_color_map,\n",
    "    width=widths,\n",
    ")\n",
    "plt.show()"
   ]
  },
  {
   "cell_type": "markdown",
   "id": "f7ff5933",
   "metadata": {},
   "source": [
    "# ¿No has tenido bastante?\n",
    "\n"
   ]
  },
  {
   "cell_type": "markdown",
   "id": "7675c78d",
   "metadata": {},
   "source": [
    "Prueba a controlar el flappy bird https://github.com/markub3327/flappy-bird-gymnasium\n",
    "\n",
    "pip install flappy-bird-gymnasium\n",
    "\n",
    "import flappy_bird_gymnasium  \n",
    "env = gym.make(\"FlappyBird-v0\")\n",
    "\n",
    "Estado (12 variables):\n",
    "  * the last pipe's horizontal position\n",
    "  * the last top pipe's vertical position\n",
    "  * the last bottom pipe's vertical position\n",
    "  * the next pipe's horizontal position\n",
    "  * the next top pipe's vertical position\n",
    "  * he next bottom pipe's vertical position\n",
    "  * the next next pipe's horizontal position\n",
    "  * the next next top pipe's vertical position\n",
    "  * the next next bottom pipe's vertical position\n",
    "  * player's vertical position\n",
    "  * player's vertical velocity\n",
    "  * player's rotation\n",
    "\n",
    "  Acciones:\n",
    "  * 0 -> no hacer nada\n",
    "  * 1 -> volar"
   ]
  }
 ],
 "metadata": {
  "kernelspec": {
   "display_name": "Python 3 (ipykernel)",
   "language": "python",
   "name": "python3"
  },
  "language_info": {
   "codemirror_mode": {
    "name": "ipython",
    "version": 3
   },
   "file_extension": ".py",
   "mimetype": "text/x-python",
   "name": "python",
   "nbconvert_exporter": "python",
   "pygments_lexer": "ipython3",
   "version": "3.11.2"
  }
 },
 "nbformat": 4,
 "nbformat_minor": 5
}
